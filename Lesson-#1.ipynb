{
 "cells": [
  {
   "cell_type": "markdown",
   "metadata": {},
   "source": [
    "<b>Урок 1. <br>\n",
    "1.   \n",
    " Сравните метрики hit_rate@k, precision@k.\n",
    " Какую метрику использовать предпочтительно и почему?\n",
    " Приведите пример 2-3 задач (опишите, что является клиентом, что товаром), в которой более уместно использовать метрику hit_rate?\n",
    "2.\n",
    "  В метрике NDCG@k мы используем логарифм в знаменателе. Как Вы думаете, почему именно логарифм? Какую функцию можно использовать вместо логарифма? Привидите пример метрик/подходов к           предобработке данных/функций ошибок в ML, где также в логарифм.\n",
    "3.\n",
    "    Какие еще метрики (Вы можете вспомнить уже пройденные Вами или посмотреть в интернете) могут использоваться для рекомендательных систем (приведите примеры метрики и чем являются  интеракции, чтобы она могла быть использована).\n",
    "4.\n",
    "    boughted = [1, 3, 5, 7, 9, 11]\n",
    "    recommended = [2, 5, 7, 4, 11, 9, 8, 10, 12, 3]\n",
    "    Посчитайте на этих данных pr@8, rec@8, AP@8, NDCG@8, MRR@8,\n",
    "    Сначала поссчитайет \"руками\", а затем подтвердите рассчеты с помощью функций (некоторые были на семинаре, некоторые нужно будут написать самостоятельно)\n",
    "\n",
    "IDCG должен считаться для всех 8 позиций рекомендаций\n"
   ]
  },
  {
   "cell_type": "markdown",
   "metadata": {},
   "source": [
    "**1.1** **hit_rate@k** и **precision@k**. Мне кажется, что метрика precision@k преподчтительнее, т.к позволяет нам отличить один класс от другого, в отличии от **hit_rate@k** и она же припятствует записыванию всех объектов в один класс. Так же, **precision** показывает какая часть предсказаний типа \"да\" действительно сбылась, хоть она и вообще не учитывания предсказания типа \"нет\". В случае **hit_rate** мы рассматриваем только P-случаи: когда в реальных наблюдениях было \"да\". И считаем, какую долю из этих случаев модель предсказала правильно. Все случаи \"нет\" мы отбрасываем.\n"
   ]
  },
  {
   "cell_type": "markdown",
   "metadata": {},
   "source": [
    "**1.2** В качестве примера для использования метрики **hit_rake@k**.<br>\n",
    "       1. Покупка например антивириса или любой другой программы в интернете. Пользователю предлагается увеличить возможности базовой версии программы за дополнительную сумму, которая существенно меньше, чем цена самой программы. В таком случае основная программа будет - user. Расширенная версия (advanced, pro etc.) - item. <br>\n",
    "    2. Рекомендованная покупка например чехла или защитной пленкой, при покупке нового телефона. В таком случае Сам телефон будет - user. Чехол(пленка, наушники, блок питания(привет 2020-й год)) - item."
   ]
  },
  {
   "cell_type": "markdown",
   "metadata": {},
   "source": [
    "**2.1** В качестве альтернативы логарифму, можно использовать квадратный корень."
   ]
  },
  {
   "cell_type": "markdown",
   "metadata": {},
   "source": [
    "**2.2** Так же как и в **NDCG@k**, в ненормализованной версии этой метрики **DCG@k** используется логарифм. Так же логарифм используется в логистической функции **LogLoss**"
   ]
  },
  {
   "cell_type": "markdown",
   "metadata": {},
   "source": [
    "**3** Можно использовать **ROC AUC** для рекомендательных систем, ее можно использовать в качестве оценки на сколько интересные для конкретного покупателя товары вылезли первыми например на яндекс маркете, при выборе скажем новых наушников, можно высчитать путем отсортировки сколько товаров из первых скажем 10 предложенных вариантов, пользователь добавил в сравнение, что-бы из них выбрать нужный и купить."
   ]
  },
  {
   "cell_type": "markdown",
   "metadata": {},
   "source": [
    "**Пример выполнения 4го задания**\n",
    "\n",
    "MSE на  \n",
    "$y = [0, 2]$  \n",
    "$y_{pred} = [1, 2]$\n",
    "\n",
    "MSE = $0.5*((0 - 1)^2 + (2-2)^2) = 0.5$ "
   ]
  },
  {
   "cell_type": "code",
   "execution_count": 15,
   "metadata": {},
   "outputs": [
    {
     "data": {
      "text/plain": [
       "0.5"
      ]
     },
     "execution_count": 15,
     "metadata": {},
     "output_type": "execute_result"
    }
   ],
   "source": [
    "import numpy as np\n",
    "((np.array([0, 2]) - np.array([1, 2]))**2).mean()"
   ]
  },
  {
   "cell_type": "code",
   "execution_count": 16,
   "metadata": {},
   "outputs": [],
   "source": [
    "boughted = [1, 3, 5, 7, 9, 11]  \n",
    "recommended = [2, 5, 7, 4, 11, 9, 8, 10, 12, 3] "
   ]
  },
  {
   "cell_type": "code",
   "execution_count": 17,
   "metadata": {},
   "outputs": [
    {
     "data": {
      "text/plain": [
       "0.5"
      ]
     },
     "execution_count": 17,
     "metadata": {},
     "output_type": "execute_result"
    }
   ],
   "source": [
    "## presicion@8\n",
    "pr8 = recommended[:8]\n",
    "pr8_manual = (boughted[2] / boughted[2] + boughted[3] / boughted[3] + boughted[-2] / boughted[-2] + boughted[-1] / boughted[-1]) / len(pr8)\n",
    "pr8_manual"
   ]
  },
  {
   "cell_type": "code",
   "execution_count": 23,
   "metadata": {},
   "outputs": [],
   "source": [
    "def pr8_f(boughted,recommended):\n",
    "    boughted = np.array(boughted)\n",
    "    pr8 = np.array(recommended)[:8]\n",
    "\n",
    "    in_list = np.isin(pr8, boughted)\n",
    "    \n",
    "    return np.sum(in_list) / len(pr8)"
   ]
  },
  {
   "cell_type": "code",
   "execution_count": 24,
   "metadata": {},
   "outputs": [
    {
     "data": {
      "text/plain": [
       "0.5"
      ]
     },
     "execution_count": 24,
     "metadata": {},
     "output_type": "execute_result"
    }
   ],
   "source": [
    "pr8_f(boughted,recommended)"
   ]
  },
  {
   "cell_type": "code",
   "execution_count": 25,
   "metadata": {},
   "outputs": [
    {
     "data": {
      "text/plain": [
       "0.6666666666666666"
      ]
     },
     "execution_count": 25,
     "metadata": {},
     "output_type": "execute_result"
    }
   ],
   "source": [
    "## recall@8\n",
    "rc8 = recommended[:8]\n",
    "rc8_manual = (boughted[2] / boughted[2] + boughted[3] / boughted[3] + boughted[-2] / boughted[-2] + boughted[-1] / boughted[-1]) / len(boughted)\n",
    "rc8_manual"
   ]
  },
  {
   "cell_type": "code",
   "execution_count": 30,
   "metadata": {},
   "outputs": [],
   "source": [
    "def rc8_f(boughted,recommended):\n",
    "    boughted = np.array(boughted)\n",
    "    rc8 = np.array(recommended)[:8]\n",
    "    \n",
    "    in_list = np.isin(rc8,boughted)\n",
    "    \n",
    "    return np.sum(in_list) / len(boughted)"
   ]
  },
  {
   "cell_type": "code",
   "execution_count": 31,
   "metadata": {},
   "outputs": [
    {
     "data": {
      "text/plain": [
       "0.6666666666666666"
      ]
     },
     "execution_count": 31,
     "metadata": {},
     "output_type": "execute_result"
    }
   ],
   "source": [
    "rc8_f(boughted,recommended)"
   ]
  },
  {
   "cell_type": "code",
   "execution_count": 34,
   "metadata": {},
   "outputs": [
    {
     "data": {
      "text/plain": [
       "0.30416666666666664"
      ]
     },
     "execution_count": 34,
     "metadata": {},
     "output_type": "execute_result"
    }
   ],
   "source": [
    "## Average precision@8\n",
    "apr8_manual = (0 * pr8[0] / len(pr8[:1]) + 1 *(0 + 1) / len(pr8[:2]) + 1 *(0 + 1 +1 ) / len(pr8[:3])+0*(0+1+1+0) / len(pr8[:4]) + 1 * (0 + 1 + 1 + 0 + 1) / len(pr8[:5]) + 1 * (0 + 1 + 1 + 0 + 1 + 1) / len(pr8[:6]) + 0 * (0 + 1 + 1 + 0 + 1 + 1 + 0) / len(pr8[:7]) + 0 *(0 + 1 + 1 + 0 + 1 + 1 + 0 + 0) / len(pr8[:8])) / len(pr8)\n",
    "apr8_manual"
   ]
  },
  {
   "cell_type": "code",
   "execution_count": 39,
   "metadata": {},
   "outputs": [],
   "source": [
    "def ap8_v(boughted,recommended,k):\n",
    "    boughted_inside = np.array(boughted)\n",
    "    recommended_inside = np.array(recommended)[:k]\n",
    "    \n",
    "    \n",
    "    def ap8_v_f(recommended_in_in,boughted_in_in):\n",
    "        included_into_list = np.isin(recommended_in_in,boughted_in_in)\n",
    "        return np.sum(included_into_list) / len(recommended_in_in)\n",
    "    \n",
    "    sum_ = 0\n",
    "    \n",
    "    for element in enumerate(recommended_inside):\n",
    "        l = element[0]+1\n",
    "        pr = ap8_v_f(recommended_inside[:l],boughted_inside)\n",
    "        if element[1] in boughted_inside:\n",
    "            sum_ += 1 * pr\n",
    "        else:\n",
    "            sum_ += 0 * pr\n",
    "    \n",
    "    return sum_ / len(recommended_inside)"
   ]
  },
  {
   "cell_type": "code",
   "execution_count": 40,
   "metadata": {},
   "outputs": [
    {
     "data": {
      "text/plain": [
       "0.30416666666666664"
      ]
     },
     "execution_count": 40,
     "metadata": {},
     "output_type": "execute_result"
    }
   ],
   "source": [
    "ap8_v(boughted,recommended,8)"
   ]
  },
  {
   "cell_type": "code",
   "execution_count": 42,
   "metadata": {},
   "outputs": [
    {
     "data": {
      "text/plain": [
       "0.5279127445637272"
      ]
     },
     "execution_count": 42,
     "metadata": {},
     "output_type": "execute_result"
    }
   ],
   "source": [
    "## normalized discounted cumulative gain@8\n",
    "NDCG8_manual = (1 / len(recommended[:8]) * (0 + 1 / np.log2(2) + 1 / np.log2(3)+ 0 / np.log2(4) + 1 / np.log2(5) + 1 / np.log2(6) + 0 / np.log2(7)+ 0 / np.log2(8))) / (1 / len(recommended[:8]) * (1 + 1 / np.log2(2) + 1 / np.log2(3) + 1 / np.log2(4) + 1 / np.log2(5) + 1 / np.log2(6) + 1 / np.log2(7) + 1 / np.log2(8)))\n",
    "NDCG8_manual"
   ]
  },
  {
   "cell_type": "code",
   "execution_count": 45,
   "metadata": {},
   "outputs": [],
   "source": [
    "def ndcg8_v(boughted,recommended,k):\n",
    "    boughted_inside = np.array(boughted)\n",
    "    recommended_inside = np.array(recommended)[:k]\n",
    "    \n",
    "    included_into_list = np.isin(recommended_inside,boughted_inside)\n",
    "    \n",
    "    def dcg(list_):\n",
    "        sum_= 0\n",
    "        for element in enumerate(list_):\n",
    "            if element[1]:\n",
    "                if element[0] + 1 == 1:\n",
    "                    sum_ += 1\n",
    "                else:\n",
    "                    sum_ += 1 / np.log2(element[0] + 1)\n",
    "            else:\n",
    "                continue   \n",
    "        return sum_/len(list_)\n",
    "    \n",
    "    \n",
    "    def ideal_dcg(list_):\n",
    "        sum_ = 0\n",
    "        ideal_list = ['True']*len(list_)\n",
    "        for element in enumerate(list_):\n",
    "                if element[0] + 1 == 1:\n",
    "                    sum_ += 1\n",
    "                else:\n",
    "                    sum_ += 1 / np.log2(element[0] + 1)\n",
    "                \n",
    "        return sum_ / len(list_)\n",
    "    \n",
    "    ndcg = dcg(included_into_list) / ideal_dcg(included_into_list)\n",
    "    \n",
    "    return ndcg"
   ]
  },
  {
   "cell_type": "code",
   "execution_count": 46,
   "metadata": {},
   "outputs": [
    {
     "data": {
      "text/plain": [
       "0.5279127445637272"
      ]
     },
     "execution_count": 46,
     "metadata": {},
     "output_type": "execute_result"
    }
   ],
   "source": [
    "ndcg8_v(boughted,recommended,8)"
   ]
  },
  {
   "cell_type": "code",
   "execution_count": 47,
   "metadata": {},
   "outputs": [
    {
     "data": {
      "text/plain": [
       "0.15"
      ]
     },
     "execution_count": 47,
     "metadata": {},
     "output_type": "execute_result"
    }
   ],
   "source": [
    "## mean reciprocal rank@8\n",
    "MRR8_manual = (1 / (recommended[:8].index(recommended[:8][1]) + 1) + 1 / (recommended[:8].index(recommended[:8][2]) + 1) + 1 / (recommended[:8].index(recommended[:8][4]) + 1) + 1 / (recommended[:8].index(recommended[:8][5]) + 1)) / len(recommended[:8])\n",
    "MRR8_manual"
   ]
  },
  {
   "cell_type": "code",
   "execution_count": 49,
   "metadata": {},
   "outputs": [],
   "source": [
    "def MRR8(recommended_list, bought_list,k):\n",
    "    ranks = 0.\n",
    "    for i, item_rec in enumerate(recommended_list[:k]):\n",
    "        for item_bought in bought_list:\n",
    "            if item_rec == item_bought:\n",
    "                ranks += 1 / (i+1)\n",
    "    return ranks / len(recommended_list[:k])"
   ]
  },
  {
   "cell_type": "code",
   "execution_count": 51,
   "metadata": {},
   "outputs": [
    {
     "data": {
      "text/plain": [
       "0.15"
      ]
     },
     "execution_count": 51,
     "metadata": {},
     "output_type": "execute_result"
    }
   ],
   "source": [
    "mean_reciprocal_rank(recommended,boughted,8)"
   ]
  }
 ],
 "metadata": {
  "kernelspec": {
   "display_name": "Python 3",
   "language": "python",
   "name": "python3"
  },
  "language_info": {
   "codemirror_mode": {
    "name": "ipython",
    "version": 3
   },
   "file_extension": ".py",
   "mimetype": "text/x-python",
   "name": "python",
   "nbconvert_exporter": "python",
   "pygments_lexer": "ipython3",
   "version": "3.8.5"
  }
 },
 "nbformat": 4,
 "nbformat_minor": 4
}
